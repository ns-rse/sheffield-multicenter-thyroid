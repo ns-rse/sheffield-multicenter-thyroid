{
 "cells": [
  {
   "cell_type": "markdown",
   "metadata": {},
   "source": [
    "# An investigation of the predictors of Thyroid Cancer\n",
    "\n",
    "Ovie Edafe [![](data:image/png;base64,iVBORw0KGgoAAAANSUhEUgAAABAAAAAQCAYAAAAf8/9hAAAAGXRFWHRTb2Z0d2FyZQBBZG9iZSBJbWFnZVJlYWR5ccllPAAAA2ZpVFh0WE1MOmNvbS5hZG9iZS54bXAAAAAAADw/eHBhY2tldCBiZWdpbj0i77u/IiBpZD0iVzVNME1wQ2VoaUh6cmVTek5UY3prYzlkIj8+IDx4OnhtcG1ldGEgeG1sbnM6eD0iYWRvYmU6bnM6bWV0YS8iIHg6eG1wdGs9IkFkb2JlIFhNUCBDb3JlIDUuMC1jMDYwIDYxLjEzNDc3NywgMjAxMC8wMi8xMi0xNzozMjowMCAgICAgICAgIj4gPHJkZjpSREYgeG1sbnM6cmRmPSJodHRwOi8vd3d3LnczLm9yZy8xOTk5LzAyLzIyLXJkZi1zeW50YXgtbnMjIj4gPHJkZjpEZXNjcmlwdGlvbiByZGY6YWJvdXQ9IiIgeG1sbnM6eG1wTU09Imh0dHA6Ly9ucy5hZG9iZS5jb20veGFwLzEuMC9tbS8iIHhtbG5zOnN0UmVmPSJodHRwOi8vbnMuYWRvYmUuY29tL3hhcC8xLjAvc1R5cGUvUmVzb3VyY2VSZWYjIiB4bWxuczp4bXA9Imh0dHA6Ly9ucy5hZG9iZS5jb20veGFwLzEuMC8iIHhtcE1NOk9yaWdpbmFsRG9jdW1lbnRJRD0ieG1wLmRpZDo1N0NEMjA4MDI1MjA2ODExOTk0QzkzNTEzRjZEQTg1NyIgeG1wTU06RG9jdW1lbnRJRD0ieG1wLmRpZDozM0NDOEJGNEZGNTcxMUUxODdBOEVCODg2RjdCQ0QwOSIgeG1wTU06SW5zdGFuY2VJRD0ieG1wLmlpZDozM0NDOEJGM0ZGNTcxMUUxODdBOEVCODg2RjdCQ0QwOSIgeG1wOkNyZWF0b3JUb29sPSJBZG9iZSBQaG90b3Nob3AgQ1M1IE1hY2ludG9zaCI+IDx4bXBNTTpEZXJpdmVkRnJvbSBzdFJlZjppbnN0YW5jZUlEPSJ4bXAuaWlkOkZDN0YxMTc0MDcyMDY4MTE5NUZFRDc5MUM2MUUwNEREIiBzdFJlZjpkb2N1bWVudElEPSJ4bXAuZGlkOjU3Q0QyMDgwMjUyMDY4MTE5OTRDOTM1MTNGNkRBODU3Ii8+IDwvcmRmOkRlc2NyaXB0aW9uPiA8L3JkZjpSREY+IDwveDp4bXBtZXRhPiA8P3hwYWNrZXQgZW5kPSJyIj8+84NovQAAAR1JREFUeNpiZEADy85ZJgCpeCB2QJM6AMQLo4yOL0AWZETSqACk1gOxAQN+cAGIA4EGPQBxmJA0nwdpjjQ8xqArmczw5tMHXAaALDgP1QMxAGqzAAPxQACqh4ER6uf5MBlkm0X4EGayMfMw/Pr7Bd2gRBZogMFBrv01hisv5jLsv9nLAPIOMnjy8RDDyYctyAbFM2EJbRQw+aAWw/LzVgx7b+cwCHKqMhjJFCBLOzAR6+lXX84xnHjYyqAo5IUizkRCwIENQQckGSDGY4TVgAPEaraQr2a4/24bSuoExcJCfAEJihXkWDj3ZAKy9EJGaEo8T0QSxkjSwORsCAuDQCD+QILmD1A9kECEZgxDaEZhICIzGcIyEyOl2RkgwAAhkmC+eAm0TAAAAABJRU5ErkJggg==)](https://orcid.org/0000-0002-6205-806X) (Department of Oncology & Metabolism, University of Sheffield)  \n",
    "Neil Shephard [![](data:image/png;base64,iVBORw0KGgoAAAANSUhEUgAAABAAAAAQCAYAAAAf8/9hAAAAGXRFWHRTb2Z0d2FyZQBBZG9iZSBJbWFnZVJlYWR5ccllPAAAA2ZpVFh0WE1MOmNvbS5hZG9iZS54bXAAAAAAADw/eHBhY2tldCBiZWdpbj0i77u/IiBpZD0iVzVNME1wQ2VoaUh6cmVTek5UY3prYzlkIj8+IDx4OnhtcG1ldGEgeG1sbnM6eD0iYWRvYmU6bnM6bWV0YS8iIHg6eG1wdGs9IkFkb2JlIFhNUCBDb3JlIDUuMC1jMDYwIDYxLjEzNDc3NywgMjAxMC8wMi8xMi0xNzozMjowMCAgICAgICAgIj4gPHJkZjpSREYgeG1sbnM6cmRmPSJodHRwOi8vd3d3LnczLm9yZy8xOTk5LzAyLzIyLXJkZi1zeW50YXgtbnMjIj4gPHJkZjpEZXNjcmlwdGlvbiByZGY6YWJvdXQ9IiIgeG1sbnM6eG1wTU09Imh0dHA6Ly9ucy5hZG9iZS5jb20veGFwLzEuMC9tbS8iIHhtbG5zOnN0UmVmPSJodHRwOi8vbnMuYWRvYmUuY29tL3hhcC8xLjAvc1R5cGUvUmVzb3VyY2VSZWYjIiB4bWxuczp4bXA9Imh0dHA6Ly9ucy5hZG9iZS5jb20veGFwLzEuMC8iIHhtcE1NOk9yaWdpbmFsRG9jdW1lbnRJRD0ieG1wLmRpZDo1N0NEMjA4MDI1MjA2ODExOTk0QzkzNTEzRjZEQTg1NyIgeG1wTU06RG9jdW1lbnRJRD0ieG1wLmRpZDozM0NDOEJGNEZGNTcxMUUxODdBOEVCODg2RjdCQ0QwOSIgeG1wTU06SW5zdGFuY2VJRD0ieG1wLmlpZDozM0NDOEJGM0ZGNTcxMUUxODdBOEVCODg2RjdCQ0QwOSIgeG1wOkNyZWF0b3JUb29sPSJBZG9iZSBQaG90b3Nob3AgQ1M1IE1hY2ludG9zaCI+IDx4bXBNTTpEZXJpdmVkRnJvbSBzdFJlZjppbnN0YW5jZUlEPSJ4bXAuaWlkOkZDN0YxMTc0MDcyMDY4MTE5NUZFRDc5MUM2MUUwNEREIiBzdFJlZjpkb2N1bWVudElEPSJ4bXAuZGlkOjU3Q0QyMDgwMjUyMDY4MTE5OTRDOTM1MTNGNkRBODU3Ii8+IDwvcmRmOkRlc2NyaXB0aW9uPiA8L3JkZjpSREY+IDwveDp4bXBtZXRhPiA8P3hwYWNrZXQgZW5kPSJyIj8+84NovQAAAR1JREFUeNpiZEADy85ZJgCpeCB2QJM6AMQLo4yOL0AWZETSqACk1gOxAQN+cAGIA4EGPQBxmJA0nwdpjjQ8xqArmczw5tMHXAaALDgP1QMxAGqzAAPxQACqh4ER6uf5MBlkm0X4EGayMfMw/Pr7Bd2gRBZogMFBrv01hisv5jLsv9nLAPIOMnjy8RDDyYctyAbFM2EJbRQw+aAWw/LzVgx7b+cwCHKqMhjJFCBLOzAR6+lXX84xnHjYyqAo5IUizkRCwIENQQckGSDGY4TVgAPEaraQr2a4/24bSuoExcJCfAEJihXkWDj3ZAKy9EJGaEo8T0QSxkjSwORsCAuDQCD+QILmD1A9kECEZgxDaEZhICIzGcIyEyOl2RkgwAAhkmC+eAm0TAAAAABJRU5ErkJggg==)](https://orcid.org/000-0001-8301-6857) (Research Software Engineer, Department of Computer Science, University of Sheffield)  \n",
    "Sabapathy P Balasubramanian [![](data:image/png;base64,iVBORw0KGgoAAAANSUhEUgAAABAAAAAQCAYAAAAf8/9hAAAAGXRFWHRTb2Z0d2FyZQBBZG9iZSBJbWFnZVJlYWR5ccllPAAAA2ZpVFh0WE1MOmNvbS5hZG9iZS54bXAAAAAAADw/eHBhY2tldCBiZWdpbj0i77u/IiBpZD0iVzVNME1wQ2VoaUh6cmVTek5UY3prYzlkIj8+IDx4OnhtcG1ldGEgeG1sbnM6eD0iYWRvYmU6bnM6bWV0YS8iIHg6eG1wdGs9IkFkb2JlIFhNUCBDb3JlIDUuMC1jMDYwIDYxLjEzNDc3NywgMjAxMC8wMi8xMi0xNzozMjowMCAgICAgICAgIj4gPHJkZjpSREYgeG1sbnM6cmRmPSJodHRwOi8vd3d3LnczLm9yZy8xOTk5LzAyLzIyLXJkZi1zeW50YXgtbnMjIj4gPHJkZjpEZXNjcmlwdGlvbiByZGY6YWJvdXQ9IiIgeG1sbnM6eG1wTU09Imh0dHA6Ly9ucy5hZG9iZS5jb20veGFwLzEuMC9tbS8iIHhtbG5zOnN0UmVmPSJodHRwOi8vbnMuYWRvYmUuY29tL3hhcC8xLjAvc1R5cGUvUmVzb3VyY2VSZWYjIiB4bWxuczp4bXA9Imh0dHA6Ly9ucy5hZG9iZS5jb20veGFwLzEuMC8iIHhtcE1NOk9yaWdpbmFsRG9jdW1lbnRJRD0ieG1wLmRpZDo1N0NEMjA4MDI1MjA2ODExOTk0QzkzNTEzRjZEQTg1NyIgeG1wTU06RG9jdW1lbnRJRD0ieG1wLmRpZDozM0NDOEJGNEZGNTcxMUUxODdBOEVCODg2RjdCQ0QwOSIgeG1wTU06SW5zdGFuY2VJRD0ieG1wLmlpZDozM0NDOEJGM0ZGNTcxMUUxODdBOEVCODg2RjdCQ0QwOSIgeG1wOkNyZWF0b3JUb29sPSJBZG9iZSBQaG90b3Nob3AgQ1M1IE1hY2ludG9zaCI+IDx4bXBNTTpEZXJpdmVkRnJvbSBzdFJlZjppbnN0YW5jZUlEPSJ4bXAuaWlkOkZDN0YxMTc0MDcyMDY4MTE5NUZFRDc5MUM2MUUwNEREIiBzdFJlZjpkb2N1bWVudElEPSJ4bXAuZGlkOjU3Q0QyMDgwMjUyMDY4MTE5OTRDOTM1MTNGNkRBODU3Ii8+IDwvcmRmOkRlc2NyaXB0aW9uPiA8L3JkZjpSREY+IDwveDp4bXBtZXRhPiA8P3hwYWNrZXQgZW5kPSJyIj8+84NovQAAAR1JREFUeNpiZEADy85ZJgCpeCB2QJM6AMQLo4yOL0AWZETSqACk1gOxAQN+cAGIA4EGPQBxmJA0nwdpjjQ8xqArmczw5tMHXAaALDgP1QMxAGqzAAPxQACqh4ER6uf5MBlkm0X4EGayMfMw/Pr7Bd2gRBZogMFBrv01hisv5jLsv9nLAPIOMnjy8RDDyYctyAbFM2EJbRQw+aAWw/LzVgx7b+cwCHKqMhjJFCBLOzAR6+lXX84xnHjYyqAo5IUizkRCwIENQQckGSDGY4TVgAPEaraQr2a4/24bSuoExcJCfAEJihXkWDj3ZAKy9EJGaEo8T0QSxkjSwORsCAuDQCD+QILmD1A9kECEZgxDaEZhICIzGcIyEyOl2RkgwAAhkmC+eAm0TAAAAABJRU5ErkJggg==)](https://orcid.org/0000-0001-5953-2843) (Directorate of General Surgery, Sheffield Teaching Hospitals NHS Foundation Trust)  \n",
    "April 26, 2024\n",
    "\n",
    "An abstract summarising the work undertaken and the overall conclusions can be placed here. Sub-headings are currently removed because they conflict with those in the body of the text and mess up the links in the Table of Contents."
   ],
   "id": "ad3409a9-7710-41f4-a4ad-df7268f74237"
  },
  {
   "cell_type": "code",
   "execution_count": null,
   "metadata": {},
   "outputs": [
    {
     "output_type": "stream",
     "name": "stderr",
     "text": [
      "Warning: package 'dplyr' was built under R version 4.4.0"
     ]
    },
    {
     "output_type": "stream",
     "name": "stderr",
     "text": [
      "\n",
      "Attaching package: 'dplyr'"
     ]
    },
    {
     "output_type": "stream",
     "name": "stderr",
     "text": [
      "The following objects are masked from 'package:stats':\n",
      "\n",
      "    filter, lag"
     ]
    },
    {
     "output_type": "stream",
     "name": "stderr",
     "text": [
      "The following objects are masked from 'package:base':\n",
      "\n",
      "    intersect, setdiff, setequal, union"
     ]
    },
    {
     "output_type": "stream",
     "name": "stderr",
     "text": [
      "Warning: package 'ggplot2' was built under R version 4.4.0"
     ]
    },
    {
     "output_type": "stream",
     "name": "stderr",
     "text": [
      "Warning: package 'ggdark' was built under R version 4.4.0"
     ]
    },
    {
     "output_type": "stream",
     "name": "stderr",
     "text": [
      "Warning: package 'gtsummary' was built under R version 4.4.0"
     ]
    },
    {
     "output_type": "stream",
     "name": "stderr",
     "text": [
      "#BlackLivesMatter"
     ]
    },
    {
     "output_type": "stream",
     "name": "stderr",
     "text": [
      "Warning: package 'Hmisc' was built under R version 4.4.0"
     ]
    },
    {
     "output_type": "stream",
     "name": "stderr",
     "text": [
      "\n",
      "Attaching package: 'Hmisc'"
     ]
    },
    {
     "output_type": "stream",
     "name": "stderr",
     "text": [
      "The following objects are masked from 'package:dplyr':\n",
      "\n",
      "    src, summarize"
     ]
    },
    {
     "output_type": "stream",
     "name": "stderr",
     "text": [
      "The following objects are masked from 'package:base':\n",
      "\n",
      "    format.pval, units"
     ]
    },
    {
     "output_type": "stream",
     "name": "stderr",
     "text": [
      "Warning: package 'knitr' was built under R version 4.4.0"
     ]
    },
    {
     "output_type": "stream",
     "name": "stderr",
     "text": [
      "Warning: package 'readr' was built under R version 4.4.0"
     ]
    },
    {
     "output_type": "stream",
     "name": "stderr",
     "text": [
      "Warning: package 'rmarkdown' was built under R version 4.4.0"
     ]
    },
    {
     "output_type": "stream",
     "name": "stderr",
     "text": [
      "Warning: package 'dials' was built under R version 4.4.0"
     ]
    },
    {
     "output_type": "stream",
     "name": "stderr",
     "text": [
      "Loading required package: scales"
     ]
    },
    {
     "output_type": "stream",
     "name": "stderr",
     "text": [
      "Warning: package 'scales' was built under R version 4.4.0"
     ]
    },
    {
     "output_type": "stream",
     "name": "stderr",
     "text": [
      "\n",
      "Attaching package: 'scales'"
     ]
    },
    {
     "output_type": "stream",
     "name": "stderr",
     "text": [
      "The following object is masked from 'package:readr':\n",
      "\n",
      "    col_factor"
     ]
    },
    {
     "output_type": "stream",
     "name": "stderr",
     "text": [
      "Warning: package 'kernlab' was built under R version 4.4.0"
     ]
    },
    {
     "output_type": "stream",
     "name": "stderr",
     "text": [
      "\n",
      "Attaching package: 'kernlab'"
     ]
    },
    {
     "output_type": "stream",
     "name": "stderr",
     "text": [
      "The following object is masked from 'package:scales':\n",
      "\n",
      "    alpha"
     ]
    },
    {
     "output_type": "stream",
     "name": "stderr",
     "text": [
      "The following object is masked from 'package:ggplot2':\n",
      "\n",
      "    alpha"
     ]
    },
    {
     "output_type": "stream",
     "name": "stderr",
     "text": [
      "Warning: package 'tidymodels' was built under R version 4.4.0"
     ]
    },
    {
     "output_type": "stream",
     "name": "stderr",
     "text": [
      "── Attaching packages ────────────────────────────────────── tidymodels 1.2.0 ──"
     ]
    },
    {
     "output_type": "stream",
     "name": "stderr",
     "text": [
      "✔ broom        1.0.5      ✔ tibble       3.2.1 \n",
      "✔ infer        1.0.7      ✔ tidyr        1.3.1 \n",
      "✔ modeldata    1.3.0      ✔ tune         1.2.1 \n",
      "✔ parsnip      1.2.1      ✔ workflows    1.1.4 \n",
      "✔ purrr        1.0.2      ✔ workflowsets 1.1.0 \n",
      "✔ recipes      1.0.10     ✔ yardstick    1.3.1 \n",
      "✔ rsample      1.2.1      "
     ]
    },
    {
     "output_type": "stream",
     "name": "stderr",
     "text": [
      "Warning: package 'broom' was built under R version 4.4.0"
     ]
    },
    {
     "output_type": "stream",
     "name": "stderr",
     "text": [
      "Warning: package 'infer' was built under R version 4.4.0"
     ]
    },
    {
     "output_type": "stream",
     "name": "stderr",
     "text": [
      "Warning: package 'modeldata' was built under R version 4.4.0"
     ]
    },
    {
     "output_type": "stream",
     "name": "stderr",
     "text": [
      "Warning: package 'parsnip' was built under R version 4.4.0"
     ]
    },
    {
     "output_type": "stream",
     "name": "stderr",
     "text": [
      "Warning: package 'purrr' was built under R version 4.4.0"
     ]
    },
    {
     "output_type": "stream",
     "name": "stderr",
     "text": [
      "Warning: package 'recipes' was built under R version 4.4.0"
     ]
    },
    {
     "output_type": "stream",
     "name": "stderr",
     "text": [
      "Warning: package 'rsample' was built under R version 4.4.0"
     ]
    },
    {
     "output_type": "stream",
     "name": "stderr",
     "text": [
      "Warning: package 'tibble' was built under R version 4.4.0"
     ]
    },
    {
     "output_type": "stream",
     "name": "stderr",
     "text": [
      "Warning: package 'tidyr' was built under R version 4.4.0"
     ]
    },
    {
     "output_type": "stream",
     "name": "stderr",
     "text": [
      "Warning: package 'tune' was built under R version 4.4.0"
     ]
    },
    {
     "output_type": "stream",
     "name": "stderr",
     "text": [
      "Warning: package 'workflows' was built under R version 4.4.0"
     ]
    },
    {
     "output_type": "stream",
     "name": "stderr",
     "text": [
      "Warning: package 'workflowsets' was built under R version 4.4.0"
     ]
    },
    {
     "output_type": "stream",
     "name": "stderr",
     "text": [
      "Warning: package 'yardstick' was built under R version 4.4.0"
     ]
    },
    {
     "output_type": "stream",
     "name": "stderr",
     "text": [
      "── Conflicts ───────────────────────────────────────── tidymodels_conflicts() ──\n",
      "✖ recipes::all_double()   masks gtsummary::all_double()\n",
      "✖ recipes::all_factor()   masks gtsummary::all_factor()\n",
      "✖ recipes::all_integer()  masks gtsummary::all_integer()\n",
      "✖ recipes::all_logical()  masks gtsummary::all_logical()\n",
      "✖ recipes::all_numeric()  masks gtsummary::all_numeric()\n",
      "✖ kernlab::alpha()        masks scales::alpha(), ggplot2::alpha()\n",
      "✖ purrr::cross()          masks kernlab::cross()\n",
      "✖ purrr::discard()        masks scales::discard()\n",
      "✖ dplyr::filter()         masks stats::filter()\n",
      "✖ dplyr::lag()            masks stats::lag()\n",
      "✖ .GlobalEnv::set_names() masks purrr::set_names()\n",
      "✖ yardstick::spec()       masks readr::spec()\n",
      "✖ Hmisc::src()            masks dplyr::src()\n",
      "✖ recipes::step()         masks stats::step()\n",
      "✖ Hmisc::summarize()      masks dplyr::summarize()\n",
      "✖ parsnip::translate()    masks Hmisc::translate()\n",
      "✖ .GlobalEnv::view()      masks tibble::view()\n",
      "• Search for functions across packages at https://www.tidymodels.org/find/"
     ]
    },
    {
     "output_type": "stream",
     "name": "stderr",
     "text": [
      "Warning: package 'tidyverse' was built under R version 4.4.0"
     ]
    },
    {
     "output_type": "stream",
     "name": "stderr",
     "text": [
      "Warning: package 'forcats' was built under R version 4.4.0"
     ]
    },
    {
     "output_type": "stream",
     "name": "stderr",
     "text": [
      "Warning: package 'lubridate' was built under R version 4.4.0"
     ]
    },
    {
     "output_type": "stream",
     "name": "stderr",
     "text": [
      "── Attaching core tidyverse packages ──────────────────────── tidyverse 2.0.0 ──\n",
      "✔ forcats   1.0.0     ✔ stringr   1.5.1\n",
      "✔ lubridate 1.9.3     "
     ]
    },
    {
     "output_type": "stream",
     "name": "stderr",
     "text": [
      "── Conflicts ────────────────────────────────────────── tidyverse_conflicts() ──\n",
      "✖ kernlab::alpha()     masks scales::alpha(), ggplot2::alpha()\n",
      "✖ scales::col_factor() masks readr::col_factor()\n",
      "✖ purrr::cross()       masks kernlab::cross()\n",
      "✖ purrr::discard()     masks scales::discard()\n",
      "✖ dplyr::filter()      masks stats::filter()\n",
      "✖ stringr::fixed()     masks recipes::fixed()\n",
      "✖ dplyr::lag()         masks stats::lag()\n",
      "✖ yardstick::spec()    masks readr::spec()\n",
      "✖ Hmisc::src()         masks dplyr::src()\n",
      "✖ Hmisc::summarize()   masks dplyr::summarize()\n",
      "ℹ Use the conflicted package (<http://conflicted.r-lib.org/>) to force all conflicts to become errors"
     ]
    },
    {
     "output_type": "stream",
     "name": "stderr",
     "text": [
      "Warning: package 'vip' was built under R version 4.4.0"
     ]
    },
    {
     "output_type": "stream",
     "name": "stderr",
     "text": [
      "\n",
      "Attaching package: 'vip'\n",
      "\n",
      "The following object is masked from 'package:utils':\n",
      "\n",
      "    vi"
     ]
    },
    {
     "output_type": "stream",
     "name": "stderr",
     "text": [
      "Rows: 1364 Columns: 33\n",
      "── Column specification ────────────────────────────────────────────────────────\n",
      "Delimiter: \",\"\n",
      "chr (26): gender, ethnicity, eligibility, incidental_nodule, palpable_nodule...\n",
      "dbl  (7): study_id, age_at_scan, albumin, tsh_value, lymphocytes, monocyte, ...\n",
      "\n",
      "ℹ Use `spec()` to retrieve the full column specification for this data.\n",
      "ℹ Specify the column types or set `show_col_types = FALSE` to quiet this message."
     ]
    },
    {
     "output_type": "stream",
     "name": "stderr",
     "text": [
      "Warning: There was 1 warning in `dplyr::mutate()`.\n",
      "ℹ In argument: `dplyr::across(...)`.\n",
      "Caused by warning:\n",
      "! Unreplaced values treated as NA as `.x` is not compatible.\n",
      "Please specify replacements exhaustively or supply `.default`."
     ]
    }
   ],
   "source": [
    "## Libraries for data manipulation, plotting and tabulating (sorted alphabetically)\n",
    "library(dplyr)"
   ],
   "id": "eddcb11b-a059-41d7-bda4-baa61f304d7c"
  },
  {
   "cell_type": "markdown",
   "metadata": {},
   "source": [
    "## 1 Introduction\n",
    "\n",
    "Some paragraphs on the background of the work can go here. **TODO** Expand on this.\n",
    "\n",
    "## 2 Methods\n",
    "\n",
    "Data was cleaned and analysed using the R Statistical Software R Core Team ([2023](#ref-r_citation)) and the Tidyverse (Wickham et al. ([2019](#ref-tidyverse))), Tidymodels (Kuhn and Wickham ([2020](#ref-tidymodels))) collection of packages.\n",
    "\n",
    "### 2.1 Modelling\n",
    "\n",
    "Description of the different models and how they are assessed can go here.\n",
    "\n",
    "A selection of modern statistical classification approaches have been selected and tested for this work. To fit the models data is split into training and testing cohorts in a ratio of 0.75:0.25 and each model is fitted using the training cohort. The predictive accuracy of the fitted model is then assessed in the test cohort. **TODO** Expand on this.\n",
    "\n",
    "Cross validation is used to estimate the accuracy of the models there are a number of options available, those considered for this work are k-fold and leave one out (loo) cross-validation. **TODO** Expand on this.\n",
    "\n",
    "#### 2.1.1 LASSO / Elastic Net\n",
    "\n",
    "LASSO (Least Absolute Shrinkage and Selection Operatror) and Elastic Net Zou and Hastie ([2005](#ref-zou2005)) are regression methods that perform variable selection. The original LASSO method proposed by “<span class=\"nocase\">Regression Shrinkage and Selection via the Lasso</span>” ([1996](#ref-tibshirani1996)) allows the coefficients for independent/predictor variables to “shrink” down towards zero, effectively eliminating them from influencing the model, this is often referred to as L<sub>1</sub> regularisation. The Elastic Net Zou and Hastie ([2005](#ref-zou2005)) improves on the LASSO by balancing L<sub>1</sub> regularisation with ridge-regression or L<sub>2</sub> regularisation which helps avoid over-fitting.\n",
    "\n",
    "Both methods avoid many of the shortcomings/pitfalls of stepwise variable selection Thompson ([1995](#ref-thompson1995)) Smith ([2018](#ref-smith2018)) and have been shown to be more accurate in clinical decision making in small datasets with well code, externally selected variables Steyerberg et al. ([2001](#ref-steyerberg2001))\n",
    "\n",
    "#### 2.1.2 Random Forest\n",
    "\n",
    "Blurb on what Random Forests are.\n",
    "\n",
    "#### 2.1.3 Gradient Boosting\n",
    "\n",
    "Blurb on what Gradient Boosting is.\n",
    "\n",
    "#### 2.1.4 SVM\n",
    "\n",
    "Blurb on what Support Vector Machines are.\n",
    "\n",
    "#### 2.1.5 Comparision\n",
    "\n",
    "## 3 Results\n",
    "\n",
    "### 3.1 Data Description\n",
    "\n",
    "Details of data completeness and other descriptive aspects go here."
   ],
   "id": "5f36ed00-de09-4ab6-a0a5-3c8a9ae0354a"
  },
  {
   "cell_type": "code",
   "execution_count": null,
   "metadata": {
    "tbl-caption": "Description of variables in the Sheffield Thyroid dataset."
   },
   "outputs": [],
   "source": [
    "var_labels |>\n",
    "  as.data.frame() |>\n",
    "  kable(col.names = c(\"Description\"),\n",
    "        caption=\"Description of variables in the Sheffield Thyroid dataset.\")"
   ],
   "id": "4dda9a85-abf7-4547-8b87-8043651045af"
  },
  {
   "cell_type": "markdown",
   "metadata": {},
   "source": [
    "A summary of the variables that are available in this data set can be found in <a href=\"#tbl-variables\" class=\"quarto-xref\">Table 1</a>."
   ],
   "id": "ac902a41-32dc-4653-a72f-71324ae8307f"
  },
  {
   "cell_type": "code",
   "execution_count": null,
   "metadata": {
    "tbl-caption": "Overall summary of all variables in the Sheffield dataset."
   },
   "outputs": [],
   "source": [
    "df_summary <- df |>\n",
    "  ## NB - We drop the study_id its not a variable, rather its an identifier\n",
    "  dplyr::select(!(study_id)) |>\n",
    "  dplyr::ungroup() |>\n",
    "  gtsummary::tbl_summary(\n",
    "    type = all_continuous() ~ \"continuous2\",\n",
    "    statistic = all_continuous() ~ c(\n",
    "      \"{N_nonmiss}\",\n",
    "      \"{mean} ({sd})\",\n",
    "      \"{median} ({p25}, {p75})\",\n",
    "      \"{min}, {max}\"\n",
    "    ),\n",
    "    percent=\"column\",      # Include percentages for categorical variables by \"column\", \"row\" or \"cell\"\n",
    "    missing=\"always\"           # Exclude missing, options are \"no\", \"ifany\" and \"always\"\n",
    "  ) |>\n",
    "  gtsummary::modify_caption(\"Baseline characteristics and referral source of included patients\")\n",
    "df_summary"
   ],
   "id": "3edac441-4138-43a6-91ae-e417b8033ce2"
  },
  {
   "cell_type": "markdown",
   "metadata": {},
   "source": [
    "The completeness of the data is shown in <a href=\"#tbl-data-completeness\" class=\"quarto-xref\">Table 2</a>. Where variables continuous (e.g. `age` or `size_nodule_mm`) basic summary statistics in the form of mean, standard deviation, median and inter-quartile range are given. For categorical variables that are logical `TRUE`/`FALSE` (e.g. `palpable_nodule`) the number of `TRUE` observations and the percentage (of those with observed data for that variable) are shown along with the number that are *Unknown*. For categorical variables such as `gender` and percentages in each category are reported. For all variables an indication of the number of missing observations is also given and it is worth noting that there are 214 instances where the `final_pathology` is not known which reduces the sample size to 1150.\n",
    "\n",
    "**IMPORTANT** You will probably want to have a the following section included which excludes those with missing `final_pathology`, they can’t contribute anything to the modelling.\n",
    "\n",
    "**IMPORTANT** Once you have decided which variables you want to include in your analysis you should determine how many individuals have complete data for all of these, this *will* reduce your sample size available. You could add that to this section.\n",
    "\n",
    "The predictor variables selected for inclusion were.\n",
    "\n",
    "**TODO** Insert table of subset of predictor variables that are considered important."
   ],
   "id": "f3faab10-cc91-4838-83ae-15f6379c468c"
  },
  {
   "cell_type": "code",
   "execution_count": null,
   "metadata": {},
   "outputs": [
    {
     "output_type": "stream",
     "name": "stdout",
     "text": [
      "[1] \"Before : 1364\""
     ]
    },
    {
     "output_type": "stream",
     "name": "stdout",
     "text": [
      "[1] \"After  : 1150\""
     ]
    }
   ],
   "source": [
    "print(paste0(\"Before : \", nrow(df)))"
   ],
   "id": "efed7145-da21-4032-937c-9d0b0d5ddcab"
  },
  {
   "cell_type": "code",
   "execution_count": null,
   "metadata": {
    "fig-caption": "Age by final pathology."
   },
   "outputs": [
    {
     "output_type": "stream",
     "name": "stderr",
     "text": [
      "`stat_bin()` using `bins = 30`. Pick better value with `binwidth`."
     ]
    },
    {
     "output_type": "display_data",
     "metadata": {},
     "data": {}
    }
   ],
   "source": [
    "df |>\n",
    "  ggplot(aes(age_at_scan, fill=final_pathology)) +\n",
    "  geom_histogram(alpha=0.6, position=\"identity\") +\n",
    "  labs(x = \"Age (years)\", y = \"N\") +\n",
    "  ggtitle(\"Age\") +\n",
    "  labs(fill=\"\")"
   ],
   "id": "cell-fig-age-by-final-pathology"
  },
  {
   "cell_type": "code",
   "execution_count": null,
   "metadata": {
    "fig-caption": "Gender by final pathology."
   },
   "outputs": [
    {
     "output_type": "display_data",
     "metadata": {},
     "data": {}
    }
   ],
   "source": [
    "df |>\n",
    "  ggplot(aes(gender, fill=final_pathology)) +\n",
    "  geom_bar(alpha=0.6) +\n",
    "  labs(x = \"Final Pathology\", y = \"N\") +\n",
    "  ggtitle(\"Gender\") +\n",
    "  labs(fill=\"\")"
   ],
   "id": "cell-fig-gender-by-final-pathology"
  },
  {
   "cell_type": "code",
   "execution_count": null,
   "metadata": {
    "fig-caption": "Incidental nodule by final pathology."
   },
   "outputs": [
    {
     "output_type": "display_data",
     "metadata": {},
     "data": {}
    }
   ],
   "source": [
    "df |>\n",
    "  ggplot(aes(incidental_nodule, fill=final_pathology)) +\n",
    "  geom_bar(alpha=0.6) +\n",
    "  labs(x = \"Final Pathology\", y = \"N\") +\n",
    "  ggtitle(\"Incidental Nodule\") +\n",
    "  labs(fill=\"\")"
   ],
   "id": "cell-fig-incidental-nodule-by-final-pathology"
  },
  {
   "cell_type": "code",
   "execution_count": null,
   "metadata": {
    "fig-caption": "Palpable nodule by final pathology."
   },
   "outputs": [
    {
     "output_type": "display_data",
     "metadata": {},
     "data": {}
    }
   ],
   "source": [
    "df |>\n",
    "  ggplot(aes(palpable_nodule, fill=final_pathology)) +\n",
    "  geom_bar(alpha=0.6) +\n",
    "  labs(x = \"Final Pathology\", y = \"N\") +\n",
    "  ggtitle(\"Palpable Nodule\") +\n",
    "  labs(fill=\"\")"
   ],
   "id": "cell-fig-palpable-nodule-by-final-pathology"
  },
  {
   "cell_type": "code",
   "execution_count": null,
   "metadata": {
    "fig-caption": "Vocal cord paresis by final pathology."
   },
   "outputs": [
    {
     "output_type": "display_data",
     "metadata": {},
     "data": {}
    }
   ],
   "source": [
    "df |>\n",
    "  ggplot(aes(vocal_cord_paresis, fill=final_pathology)) +\n",
    "  geom_bar(alpha=0.6) +\n",
    "  labs(x = \"Final pathology\", y = \"N\") +\n",
    "  ggtitle(\"Vocal Cord Paresis\") +\n",
    "  labs(fill=\"\")"
   ],
   "id": "cell-fig-vocal-cord-paresis"
  },
  {
   "cell_type": "code",
   "execution_count": null,
   "metadata": {
    "fig-caption": "Hypertension by final pathology."
   },
   "outputs": [
    {
     "output_type": "display_data",
     "metadata": {},
     "data": {}
    }
   ],
   "source": [
    "df |>\n",
    "  ggplot(aes(hypertension, fill=final_pathology)) +\n",
    "  geom_bar(alpha=0.6) +\n",
    "  ggtitle(\"Hypertension\") +\n",
    "  labs(x = \"Final Pathology\", y = \"N\") +\n",
    "  labs(fill=\"\")"
   ],
   "id": "cell-fig-hypertension-by-final-pathology"
  },
  {
   "cell_type": "code",
   "execution_count": null,
   "metadata": {
    "fig-caption": "Nodule size (mm) by final pathology."
   },
   "outputs": [
    {
     "output_type": "stream",
     "name": "stderr",
     "text": [
      "`stat_bin()` using `bins = 30`. Pick better value with `binwidth`."
     ]
    },
    {
     "output_type": "stream",
     "name": "stderr",
     "text": [
      "Warning: Removed 319 rows containing non-finite outside the scale range\n",
      "(`stat_bin()`)."
     ]
    },
    {
     "output_type": "display_data",
     "metadata": {},
     "data": {}
    }
   ],
   "source": [
    "df |>\n",
    "  ggplot(aes(size_nodule_mm, fill=final_pathology)) +\n",
    "  geom_histogram(alpha=0.6, position=\"identity\") +\n",
    "  labs(x = \"Nodule Size (mm)\", y = \"N\") +\n",
    "  ggtitle(\"Nodule Size\") +\n",
    "  labs(fill=\"\")"
   ],
   "id": "cell-fig-size-nodule-by-final-pathology"
  },
  {
   "cell_type": "markdown",
   "metadata": {},
   "source": [
    "#### 3.1.1 Concordance\n",
    "\n",
    "A subset of clinical data and classification were repeated by independant clinicans (`fna_done`, `bta_u_classification` and `thy_classification`). This affords the opportunity to invetigate the correlation/concordance between the two assessments, formal statistical tests for difference can be made using Chi-squared, although they have little\n",
    "\n",
    "The cross tabulation of repeated `bta_u_classifcation` and `thy_classification` are shown in tables <a href=\"#tbl-concordance-bta-u-classification\" class=\"quarto-xref\">Table 3</a> and <a href=\"#tbl-concordance-thy-classification\" class=\"quarto-xref\">Table 4</a> respectively."
   ],
   "id": "4d24cc0b-169d-449c-a6c7-56a34ebf40f1"
  },
  {
   "cell_type": "code",
   "execution_count": null,
   "metadata": {
    "tbl-caption": "Cross-tabulation of `bta_u_classification` and its repeat assessment."
   },
   "outputs": [],
   "source": [
    "## Start by tabulating the variables of interest.\n",
    "concordance_bta_u_classification <- df |>\n",
    "  select(bta_u_classification, repeat_bta_u_classification) |>\n",
    "  table(useNA = \"no\")\n",
    "\n",
    "concordance_bta_u_classification |>\n",
    "  kable(caption=\"Cross-tabulation of `bta_u_classification` and its repeat assessment.\")\n",
    "## Optionally perform a Chi-squared test (chisq.test() is the function to use)."
   ],
   "id": "52006dd6-6234-4403-bffc-353f739f23ec"
  },
  {
   "cell_type": "code",
   "execution_count": null,
   "metadata": {
    "tbl-caption": "Cross-tabulation of `thy_classification` and its repeat assessment."
   },
   "outputs": [],
   "source": [
    "## Start by tabulating the variables of interest.\n",
    "concordance_thy_classification <- df |>\n",
    "  select(thy_classification, repeat_thy_classification) |>\n",
    "  table(useNA = \"no\")\n",
    "\n",
    "concordance_thy_classification  |>\n",
    "  kable(caption=\"Cross-tabulation of `thy_classification` and its repeat assessment.\")\n",
    "## Optionally perform a Chi-squared test (chisq.test() is the function to use)."
   ],
   "id": "5d819151-7871-4d0c-adae-82b6289faf27"
  },
  {
   "cell_type": "markdown",
   "metadata": {},
   "source": [
    "**TODO** Cross-tabulate other variables. I noticed that whilst there is `repeat_utlrasound` and `repeat_fna_done` there is no counter `ultrasound` or `fna_done` variables to compare these repeat data points to, are these variables available?"
   ],
   "id": "0003bc7d-152f-4638-99ec-b49467a444cd"
  },
  {
   "cell_type": "raw",
   "metadata": {
    "raw_mimetype": "text/html"
   },
   "source": [
    "<!-- Section that sets up the modelling -->"
   ],
   "id": "7b95892e-fe7a-4543-9f15-d609a311d08f"
  },
  {
   "cell_type": "code",
   "execution_count": null,
   "metadata": {},
   "outputs": [],
   "source": [
    "## Prefer tidymodel commands (although in most places we use the convention <pkg>::<function>())\n",
    "tidymodels_prefer()\n",
    "set.seed(5039378)\n",
    "\n",
    "## This is the point at which you should subset your data for those who have data available for the variables of\n",
    "## interest. The variables here should include the outcome `final_pathology` and the predictor variables that are set in\n",
    "## the code chunk `recipe`. May want to move this to another earlier in the processing so that the number of rows can be\n",
    "## counted and reported.\n",
    "df_complete <- df |>\n",
    "  dplyr::select(\n",
    "    age_at_scan,\n",
    "    final_pathology,\n",
    "    gender,\n",
    "    palpable_nodule,\n",
    "    rapid_enlargment,\n",
    "    size_nodule_mm,\n",
    "    thy_classification) |>\n",
    "dplyr::filter(if_any(everything(), is.na))\n",
    "\n",
    "## Use the df_complete rather than df as this subset have data for all the variables of interest.\n",
    "split <- rsample::initial_split(df_complete, prop = 0.75)\n",
    "train <- rsample::training(split)\n",
    "test <- rsample::testing(split)"
   ],
   "id": "b26f08b9-4dde-4756-9582-f469c7d145d8"
  },
  {
   "cell_type": "code",
   "execution_count": null,
   "metadata": {},
   "outputs": [],
   "source": [
    "cv_folds <- rsample::vfold_cv(train, v = 10, repeats = 10)"
   ],
   "id": "038e60bc-9768-4f39-aa7b-4b75d3fef253"
  },
  {
   "cell_type": "code",
   "execution_count": null,
   "metadata": {},
   "outputs": [],
   "source": [
    "cv_loo <- rsample::loo_cv(train)"
   ],
   "id": "aa100a80-9f68-4c53-97a8-516dc58d0bf9"
  },
  {
   "cell_type": "code",
   "execution_count": null,
   "metadata": {},
   "outputs": [],
   "source": [
    "## NB This is the key section where the variables that are to be used in the model are defined. A dependant variable\n",
    "## (the outcome of interest) is in this case the `final_pathology`, whether individuals have malignant or benign tumors,\n",
    "## this appears on the left-hand side of the equation (before the tilde `~`). On the right of the equation are the\n",
    "## predictor or dependant variables\n",
    "thyroid_recipe <- recipes::recipe(final_pathology ~ gender + size_nodule_mm + age_at_scan + palpable_nodule +\n",
    "  rapid_enlargment + thy_classification, data = train) |>\n",
    "  recipes::step_num2factor(final_pathology, levels = c(\"Benign\", \"Malignant\")) |>\n",
    "  recipes::step_dummy(gender, palpable_nodule, rapid_enlargment, thy_classification) |>\n",
    "  recipes::step_normalize(all_numeric())"
   ],
   "id": "6be512fc-cb5d-40f2-9256-f2836e79317d"
  },
  {
   "cell_type": "code",
   "execution_count": null,
   "metadata": {},
   "outputs": [],
   "source": [
    "thyroid_workflow <- workflows::workflow() |>\n",
    "  workflows::add_recipe(thyroid_recipe)"
   ],
   "id": "8229e5b7-d903-4982-b48a-13d0c7d8a466"
  },
  {
   "cell_type": "markdown",
   "metadata": {},
   "source": [
    "### 3.2 Modelling\n",
    "\n",
    "A total of 954 patients had complete data for the selected predictor variables (see **?@tbl-predictors**).\n",
    "\n",
    "Results of the various modelling go here. Each section will show the results along with…\n",
    "\n",
    "-   LIME/Shaply analysis for explanability of models\n",
    "\n",
    "#### 3.2.1 LASSO / Elastic Net"
   ],
   "id": "a33eff89-c387-4733-b023-eb16359c2282"
  },
  {
   "cell_type": "code",
   "execution_count": null,
   "metadata": {},
   "outputs": [],
   "source": [
    "## Specify the LASSO model using parsnip, the key here is the use of the glmnet engine which is the R package for\n",
    "## fitting LASSO regression. Technically the package fits Elastic Net but with a mixture value of 1 it is equivalent to\n",
    "## a plain LASSO (mixture value of 0 is equivalent to Ridge Regression in an Elastic Net)\n",
    "tune_spec_lasso <- parsnip::logistic_reg(penalty = hardhat::tune(), mixture = 1) |>\n",
    "  parsnip::set_engine(\"glmnet\")\n",
    "\n",
    "## Tune the LASSO parameters via cross-validation\n",
    "lasso_grid <- tune::tune_grid(\n",
    "  object = workflows::add_model(thyroid_workflow, tune_spec_lasso),\n",
    "  resamples = cv_folds,\n",
    "  grid = dials::grid_regular(penalty(), levels = 50)\n",
    ")\n",
    "\n",
    "## K-fold best fit for LASSO\n",
    "lasso_kfold_roc_auc <- lasso_grid |>\n",
    "  tune::select_best(metric = \"roc_auc\")\n",
    "\n",
    "## Fit the final LASSO model\n",
    "final_lasso_kfold <- tune::finalize_workflow(\n",
    "  workflows::add_model(thyroid_workflow, tune_spec_lasso),\n",
    "  lasso_kfold_roc_auc\n",
    ")"
   ],
   "id": "9239e58a-fb87-4d05-9725-95a530a18332"
  },
  {
   "cell_type": "code",
   "execution_count": null,
   "metadata": {},
   "outputs": [],
   "source": [
    "final_lasso_kfold |>\n",
    "  fit(train) |>\n",
    "  hardhat::extract_fit_parsnip() |>\n",
    "  vip::vi(lambda = lasso_kfold_roc_auc$penalty) |>\n",
    "  dplyr::mutate(\n",
    "    Importance = abs(Importance),\n",
    "    Variable = fct_reorder(Variable, Importance)\n",
    "  ) |>\n",
    "  ggplot(mapping = aes(x = Importance, y = Variable, fill = Sign)) +\n",
    "  geom_col() +\n",
    "  dark_theme_minimal()"
   ],
   "id": "3c996092-23f1-4308-a933-3547e1368947"
  },
  {
   "cell_type": "code",
   "execution_count": null,
   "metadata": {},
   "outputs": [],
   "source": [
    "save(lasso_tune_spec, lasso_grid, final_lasso, lasso_highest_roc_auc,\n",
    "  file = \"data/r/lasso.RData\"\n",
    ")"
   ],
   "id": "33f40a82-03ed-400f-b273-799c576858ab"
  },
  {
   "cell_type": "markdown",
   "metadata": {},
   "source": [
    "#### 3.2.2 Elastic Net"
   ],
   "id": "887ac461-61ef-47af-9ad6-24b4fb6e175b"
  },
  {
   "cell_type": "code",
   "execution_count": null,
   "metadata": {},
   "outputs": [],
   "source": [
    "## Elastic Net model specification, as with LASSO it uses glmnet package but the mixture is 0.5 which is 50% LASSO (L1\n",
    "## regularisation) and 50% Ridge Regression (L2 regularisation)\n",
    "elastic_net_tune_spec <- parsnip::logistic_reg(penalty = hardhat::tune(), mixture = 0.5) |>\n",
    "  parsnip::set_engine(\"glmnet\")\n",
    "\n",
    "## Tune the model using `tune::tune_grid()` (https://tune.tidymodels.org/reference/tune_grid.html), calculates the\n",
    "## accuracy or the Root Mean Square Error\n",
    "elastic_net_grid <- tune::tune_grid(\n",
    "  object = workflows::add_model(thyroid_workflow, elastic_net_tune_spec),\n",
    "  resamples = cv_folds,\n",
    "  grid = dials::grid_regular(penalty(), levels = 50)\n",
    ")\n",
    "\n",
    "## Perform K-fold cross validation\n",
    "elastic_net_highest_roc_auc <- elastic_net_grid |>\n",
    "  tune::select_best(metric = \"roc_auc\")\n",
    "\n",
    "## Make the final best fit based on K-fold cross validation\n",
    "final_elastic_net <- tune::finalize_workflow(\n",
    "  workflows::add_model(thyroid_workflow, elastic_net_tune_spec),\n",
    "  elastic_net_highest_roc_auc\n",
    ")"
   ],
   "id": "6183d30f-5db7-4aa2-a1de-4344b623df2e"
  },
  {
   "cell_type": "code",
   "execution_count": null,
   "metadata": {},
   "outputs": [],
   "source": [
    "final_elastic_net |>\n",
    "  fit(train) |>\n",
    "  hardhat::extract_fit_parsnip() |>\n",
    "  vip::vi(lambda = elastic_net_highest_roc_auc$penalty) |>\n",
    "  dplyr::mutate(\n",
    "    Importance = abs(Importance),\n",
    "    Variable = fct_reorder(Variable, Importance)\n",
    "  ) |>\n",
    "  ggplot(mapping = aes(x = Importance, y = Variable, fill = Sign)) +\n",
    "  geom_col() +\n",
    "  dark_theme_minimal()"
   ],
   "id": "aa42a9e0-674c-47b5-938e-bc4a8ab337fd"
  },
  {
   "cell_type": "code",
   "execution_count": null,
   "metadata": {},
   "outputs": [],
   "source": [
    "save(elastic_net_tune_spec, elastic_net_grid, final_elastic_net, elastic_net_highest_roc_auc,\n",
    "  file = \"data/r/elastic_net.RData\"\n",
    ")"
   ],
   "id": "ef23e7da-683a-47c4-8639-094db6609100"
  },
  {
   "cell_type": "markdown",
   "metadata": {},
   "source": [
    "#### 3.2.3 Random Forest"
   ],
   "id": "16128ee4-4afd-483f-a79b-4255a00af23a"
  },
  {
   "cell_type": "code",
   "execution_count": null,
   "metadata": {},
   "outputs": [],
   "source": [
    "## Specify the Random Forest model\n",
    "rf_tune <- parsnip::rand_forest(\n",
    "  mtry = tune(),\n",
    "  trees = 100,\n",
    "  min_n = tune()\n",
    ") |>\n",
    "  set_mode(\"classification\") |>\n",
    "  set_engine(\"ranger\", importance = \"impurity\")\n",
    "\n",
    "\n",
    "## Tune the parameters via Cross-validation\n",
    "rf_grid <- tune::tune_grid(\n",
    "  add_model(thyroid_workflow, rf_tune),\n",
    "  resamples = cv_folds, ## cv_loo,\n",
    "  grid = grid_regular(mtry(range = c(5, 10)), # smaller ranges will run quicker\n",
    "    min_n(range = c(2, 25)),\n",
    "    levels = 3\n",
    "  )\n",
    ")\n",
    "\n",
    "## Get the best fitting model with the highest ROC AUC\n",
    "rf_highest_roc_auc <- rf_grid |>\n",
    "  select_best(\"roc_auc\")\n",
    "final_rf <- tune::finalize_workflow(\n",
    "  add_model(thyroid_workflow, rf_tune),\n",
    "  rf_highest_roc_auc\n",
    ")"
   ],
   "id": "d5135a22-cf9d-49a7-a1a4-161a1e5dc67a"
  },
  {
   "cell_type": "code",
   "execution_count": null,
   "metadata": {},
   "outputs": [],
   "source": [
    "final_rf |>\n",
    "  fit(train) |>\n",
    "  hardhat::extract_fit_parsnip() |>\n",
    "  vip::vi(lambda = final_rf$penalty) |>\n",
    "  dplyr::mutate(\n",
    "    Importance = abs(Importance),\n",
    "    Variable = fct_reorder(Variable, Importance)\n",
    "  ) |>\n",
    "  ggplot(mapping = aes(x = Importance, y = Variable, fill = Sign)) +\n",
    "  geom_col() +\n",
    "  dark_theme_minimal()"
   ],
   "id": "708eebff-43b9-4c9f-b3ef-feccf84dbafd"
  },
  {
   "cell_type": "code",
   "execution_count": null,
   "metadata": {},
   "outputs": [],
   "source": [
    "save(random_forest_tune_spec, random_forest_grid, final_random_forest, random_forest_highest_roc_auc,\n",
    "  file = \"data/r/random_forest.RData\"\n",
    ")"
   ],
   "id": "7eda0557-ff70-45fa-8f90-27cf9297a5f1"
  },
  {
   "cell_type": "markdown",
   "metadata": {},
   "source": [
    "#### 3.2.4 Gradient Boosting"
   ],
   "id": "0968e046-0440-4c2f-b168-6d2c861f16b7"
  },
  {
   "cell_type": "code",
   "execution_count": null,
   "metadata": {},
   "outputs": [],
   "source": [
    "## Specify the Gradient boosting model\n",
    "xgboost_model <- parsnip::boost_tree(\n",
    "  mode = \"classification\",\n",
    "  trees = 100,\n",
    "  min_n = tune(),\n",
    "  tree_depth = tune(),\n",
    "  learn_rate = tune(),\n",
    "  loss_reduction = tune()\n",
    ") |>\n",
    "  set_engine(\"xgboost\", objective = \"binary:logistic\")\n",
    "\n",
    "## Specify the models tuning parameters using the `dials` package along (https://dials.tidymodels.org/) with the grid\n",
    "## space. This helps identify the hyperparameters with the lowest prediction error.\n",
    "xgboost_params <- dials::parameters(\n",
    "  min_n(),\n",
    "  tree_depth(),\n",
    "  learn_rate(),\n",
    "  loss_reduction()\n",
    ")\n",
    "xgboost_grid <- dials::grid_max_entropy(\n",
    "  xgboost_params,\n",
    "  size = 10\n",
    ")\n",
    "\n",
    "## Tune the model via cross-validation\n",
    "xgboost_tuned <- tune::tune_grid(workflows::add_model(thyroid_workflow, spec = xgboost_model),\n",
    "  resamples = cv_folds,\n",
    "  grid = xgboost_grid,\n",
    "  metrics = yardstick::metric_set(roc_auc, accuracy, ppv),\n",
    "  control = tune::control_grid(verbose = FALSE)\n",
    ")"
   ],
   "id": "66cf8ca7-6377-4a7b-b87c-c8d5b528098f"
  },
  {
   "cell_type": "code",
   "execution_count": null,
   "metadata": {},
   "outputs": [],
   "source": [
    "## We get the best final fit from the Gradient Boosting model.\n",
    "xgboost_highest_roc_auc <- xgboost_tuned |>\n",
    "  tune::select_best(\"roc_auc\")\n",
    "final_xgboost <- tune::finalize_workflow(\n",
    "  add_model(thyroid_workflow, xgboost_model),\n",
    "  xgboost_highest_roc_auc\n",
    ")"
   ],
   "id": "f76e5c8e-1719-4b78-a3b8-bda36b29c464"
  },
  {
   "cell_type": "code",
   "execution_count": null,
   "metadata": {},
   "outputs": [],
   "source": [
    "save(xgboost_tune_spec, xgboost_grid, final_xgboost, xgboost_highest_roc_auc,\n",
    "  file = \"data/r/xgboost.RData\"\n",
    ")"
   ],
   "id": "f9584812-195b-4f3b-b938-1ad56de3fd20"
  },
  {
   "cell_type": "markdown",
   "metadata": {},
   "source": [
    "#### 3.2.5 SVM"
   ],
   "id": "96bd5890-1ca8-4f1b-b0ca-43502e44826f"
  },
  {
   "cell_type": "code",
   "execution_count": null,
   "metadata": {},
   "outputs": [],
   "source": [
    "## Specify\n",
    "svm_tune_spec <- parsnip::svm_rbf(cost = tune()) |>\n",
    "  set_engine(\"kernlab\") |>\n",
    "  set_mode(\"classification\")\n",
    "\n",
    "## The hyperparameters are then tuned, in effect running the model in multiple subsets of the cross-validation to\n",
    "## get a \"best fit\".\n",
    "svm_grid <- tune::tune_grid(\n",
    "  workflows::add_model(thyroid_workflow, svm_tune_spec),\n",
    "  resamples = cv_folds, ## cv_loo,\n",
    "  grid = dials::grid_regular(cost(), levels = 20)\n",
    ")\n",
    "\n",
    "## The best fit is selected and fit to the overall training data set.\n",
    "svm_highest_roc_auc <- svm_grid |>\n",
    "  tune::select_best(\"roc_auc\")\n",
    "final_svm <- tune::finalize_workflow(\n",
    "  add_model(thyroid_workflow, svm_tune_spec),\n",
    "  svm_highest_roc_auc\n",
    ")\n",
    "\n",
    "\n",
    "## Finally an assessment is made on the accuracy -->\n",
    "tune::last_fit(final_svm, split,\n",
    "  metrics = yardstick::metric_set(roc_auc, accuracy, ppv)\n",
    ") |>\n",
    "  tune::collect_metrics()"
   ],
   "id": "3b5007ac-80a6-4623-9a7e-508f13179c13"
  },
  {
   "cell_type": "code",
   "execution_count": null,
   "metadata": {},
   "outputs": [],
   "source": [
    "save(svm_tune_spec, svm_grid, final_svm, svm_highest_roc_auc,\n",
    "  file = \"data/r/svm.RData\"\n",
    ")"
   ],
   "id": "17ea9349-1611-417a-a7e8-dfbd13ef7546"
  },
  {
   "cell_type": "markdown",
   "metadata": {},
   "source": [
    "#### 3.2.6 Explainability\n",
    "\n",
    "Which factors are important to classification can be assessed not just by the “importance” but by methods know as [LIME](https://search.r-project.org/CRAN/refmans/lime/html/lime-package.html) (Local Interpretable Model-Agnostic Explanations) Ribeiro, Singh, and Guestrin ([2016](#ref-ribeiro2016)) and [Shapley values](https://shap.readthedocs.io/en/latest/example_notebooks/overviews/An%20introduction%20to%20explainable%20AI%20with%20Shapley%20values.html) Lundberg and Lee ([2017](#ref-lundberg2017))\n",
    "\n",
    "#### 3.2.7 Comparision\n",
    "\n",
    "Comparing the sensitivity of the different models goes here.\n",
    "\n",
    "-   Table of sensitivity/specificity/other metrics.\n",
    "-   ROC curves\n",
    "\n",
    "## 4 Conclusion\n",
    "\n",
    "The take-away message is….these things are hard!\n",
    "\n",
    "Kuhn, Max, and Hadley Wickham. 2020. *Tidymodels: A Collection of Packages for Modeling and Machine Learning Using Tidyverse Principles.* <https://www.tidymodels.org>.\n",
    "\n",
    "Lundberg, Scott M, and Su-In Lee. 2017. “A Unified Approach to Interpreting Model Predictions.” Edited by I. Guyon, U. V. Luxburg, S. Bengio, H. Wallach, R. Fergus, S. Vishwanathan, and R. Garnett, 4765–74. <http://papers.nips.cc/paper/7062-a-unified-approach-to-interpreting-model-predictions.pdf>.\n",
    "\n",
    "R Core Team. 2023. *R: A Language and Environment for Statistical Computing*. Vienna, Austria: R Foundation for Statistical Computing. <https://www.R-project.org/>.\n",
    "\n",
    "“<span class=\"nocase\">Regression Shrinkage and Selection via the Lasso</span>.” 1996. *Journal of the Royal Statistical Society. Series B (Methodological)*. <https://www.jstor.org/stable/2346178>.\n",
    "\n",
    "Ribeiro, Marco Tulio, Sameer Singh, and Carlos Guestrin. 2016. “<span class=\"nocase\">\"Why Should I Trust You?\": Explaining the Predictions of Any Classifier</span>.” *arXiv*, February. <https://doi.org/10.48550/arXiv.1602.04938>.\n",
    "\n",
    "Smith, Gary. 2018. “<span class=\"nocase\">Step away from stepwise</span>.” *J. Big Data* 5 (1): 1–12. <https://doi.org/10.1186/s40537-018-0143-6>.\n",
    "\n",
    "Steyerberg, Ewout W., Marinus J. C. Eijkemans, Frank E. Harrell, and Dik. 2001. “Prognostic Modeling with Logistic Regression Analysis.” *Medical Decision Making* 21 (1): 45–56. <https://doi.org/10.1177/0272989x0102100106>.\n",
    "\n",
    "Thompson, Bruce. 1995. “Stepwise Regression and Stepwise Discriminant Analysis Need Not Apply Here: A Guidelines Editorial.” *Educational and Psychological Measurement* 55 (4): 525–34. <https://doi.org/10.1177/0013164495055004001>.\n",
    "\n",
    "Wickham, Hadley, Mara Averick, Jennifer Bryan, Winston Chang, Lucy D’Agostino McGowan, Romain François, Garrett Grolemund, et al. 2019. “Welcome to the <span class=\"nocase\">tidyverse</span>.” *Journal of Open Source Software* 4 (43): 1686. <https://doi.org/10.21105/joss.01686>.\n",
    "\n",
    "Zou, Hui, and Trevor Hastie. 2005. “<span class=\"nocase\">Regularization and Variable Selection Via the Elastic Net</span>.” *J. R. Stat. Soc. Ser. B. Stat. Methodol.* 67 (2): 301–20. <https://doi.org/10.1111/j.1467-9868.2005.00503.x>."
   ],
   "id": "4334013e-4f10-49c8-b490-0bf16edd876d"
  }
 ],
 "nbformat": 4,
 "nbformat_minor": 5,
 "metadata": {}
}
